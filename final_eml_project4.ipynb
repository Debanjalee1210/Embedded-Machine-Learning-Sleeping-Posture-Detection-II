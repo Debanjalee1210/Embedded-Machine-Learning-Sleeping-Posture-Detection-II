{
  "nbformat": 4,
  "nbformat_minor": 0,
  "metadata": {
    "colab": {
      "provenance": [],
      "gpuType": "T4"
    },
    "kernelspec": {
      "name": "python3",
      "display_name": "Python 3"
    },
    "language_info": {
      "name": "python"
    },
    "accelerator": "GPU"
  },
  "cells": [
    {
      "cell_type": "code",
      "execution_count": 82,
      "metadata": {
        "colab": {
          "base_uri": "https://localhost:8080/"
        },
        "id": "-Hy5zdFw5RCD",
        "outputId": "97600ced-b4bf-4214-cac1-93680ee3d47a"
      },
      "outputs": [
        {
          "output_type": "stream",
          "name": "stdout",
          "text": [
            "Drive already mounted at drive; to attempt to forcibly remount, call drive.mount(\"drive\", force_remount=True).\n"
          ]
        }
      ],
      "source": [
        "# mount drive from google drive\n",
        "from google.colab import drive\n",
        "drive.mount('drive')"
      ]
    },
    {
      "cell_type": "code",
      "source": [
        "# import libraries\n",
        "import os\n",
        "import numpy as np\n",
        "import pandas as pd\n",
        "import matplotlib.pyplot as plt"
      ],
      "metadata": {
        "id": "sPupZP_I5THu"
      },
      "execution_count": 83,
      "outputs": []
    },
    {
      "cell_type": "code",
      "source": [
        "# define directiory and classes\n",
        "data_dir = '/content/drive/MyDrive/Posture_data_F'\n",
        "classes = (os.listdir(data_dir))\n",
        "classes = [classes[0], classes[1], classes[2]]\n",
        "classes"
      ],
      "metadata": {
        "colab": {
          "base_uri": "https://localhost:8080/"
        },
        "id": "FapjTnDm5TKC",
        "outputId": "1c40657c-3e45-49a0-fa12-444c9c01533d"
      },
      "execution_count": 84,
      "outputs": [
        {
          "output_type": "execute_result",
          "data": {
            "text/plain": [
              "['accelerometer', 'magnetometer', 'gyroscope']"
            ]
          },
          "metadata": {},
          "execution_count": 84
        }
      ]
    },
    {
      "cell_type": "code",
      "source": [
        "# join root directory with subfolders\n",
        "data_count = []\n",
        "for i in classes:\n",
        "   data_path = os.path.join(data_dir, i)\n",
        "   data_count.append(len(os.listdir(data_path)))"
      ],
      "metadata": {
        "id": "Ekszx_a45TMT"
      },
      "execution_count": 85,
      "outputs": []
    },
    {
      "cell_type": "code",
      "source": [
        "# Creating a bar plot of the folder and files distributions in root folder ;\n",
        "fig, ax = plt.subplots(figsize=(6, 4))\n",
        "ax.bar(np.arange(len(data_count)), data_count, width=0.4, align='center', label='nos. of csv files')\n",
        "ax.set_xticks(np.arange(len(data_count)))\n",
        "ax.set_xticklabels(classes)\n",
        "ax.set_title('Class Distribution in data')\n",
        "ax.legend()\n",
        "plt.show()\n",
        "\n",
        "print('Train :')\n",
        "print(f'Number of csv files in accelerometer : {[data_count][0][0]}')\n",
        "print(f'Number of csv files in gyroscope : {[data_count][0][1]}')\n",
        "print(f'Number of csv files in magnetometer : {[data_count][0][2]}')"
      ],
      "metadata": {
        "colab": {
          "base_uri": "https://localhost:8080/",
          "height": 460
        },
        "id": "dlLPcx8l5TOp",
        "outputId": "0c373f59-ccde-4bab-90dd-98f1048e1bf9"
      },
      "execution_count": 86,
      "outputs": [
        {
          "output_type": "display_data",
          "data": {
            "text/plain": [
              "<Figure size 600x400 with 1 Axes>"
            ],
            "image/png": "[encoded data removed]"
          },
          "metadata": {}
        },
        {
          "output_type": "stream",
          "name": "stdout",
          "text": [
            "Train :\n",
            "Number of csv files in accelerometer : 12\n",
            "Number of csv files in gyroscope : 12\n",
            "Number of csv files in magnetometer : 12\n"
          ]
        }
      ]
    },
    {
      "cell_type": "code",
      "source": [
        "# subfolders directory\n",
        "class_path_dir = []\n",
        "for idx, class_name in enumerate(classes):\n",
        "   print(idx)\n",
        "   print(class_name)\n",
        "   path_dir = os.path.join(data_dir, class_name)\n",
        "   class_path_dir.append(path_dir)\n",
        "\n",
        "accelerometer_path = class_path_dir[0]\n",
        "magnetometer_path = class_path_dir[1]\n",
        "gyroscope_path = class_path_dir[2]\n",
        "\n",
        "print(magnetometer_path)\n",
        "print(accelerometer_path)\n",
        "print(gyroscope_path)"
      ],
      "metadata": {
        "colab": {
          "base_uri": "https://localhost:8080/"
        },
        "id": "s8jNiMtH5TQo",
        "outputId": "38a757aa-b98c-4e5a-c462-64d2b51a1687"
      },
      "execution_count": 87,
      "outputs": [
        {
          "output_type": "stream",
          "name": "stdout",
          "text": [
            "0\n",
            "accelerometer\n",
            "1\n",
            "magnetometer\n",
            "2\n",
            "gyroscope\n",
            "/content/drive/MyDrive/Posture_data_F/magnetometer\n",
            "/content/drive/MyDrive/Posture_data_F/accelerometer\n",
            "/content/drive/MyDrive/Posture_data_F/gyroscope\n"
          ]
        }
      ]
    },
    {
      "cell_type": "code",
      "source": [
        "# csv files directory for magnetometer\n",
        "num_mag_files = (os.listdir(magnetometer_path))\n",
        "num_mag_files"
      ],
      "metadata": {
        "colab": {
          "base_uri": "https://localhost:8080/"
        },
        "id": "Tezm4iA15TSm",
        "outputId": "8266917c-f6eb-4a57-d3ec-71d057d01cd1"
      },
      "execution_count": 88,
      "outputs": [
        {
          "output_type": "execute_result",
          "data": {
            "text/plain": [
              "['Sitting_Data_Magnetometer_Trial1.csv',\n",
              " 'Supine_Magnetometer_Trial2.csv',\n",
              " 'Supine_Magnetometer_Trial1.csv',\n",
              " 'Lateral_Left_Side_Magnetometer_Trial1.csv',\n",
              " 'Lateral_Right_Side_Magnetometer_Trial1.csv',\n",
              " 'unknown_data_magnetometer_trial2.csv',\n",
              " 'Prone_Magnetometer_Trial2.csv',\n",
              " 'Prone_Magnetometer_Trial1.csv',\n",
              " 'Lateral_Left_Side_Magnetometer_Trial2.csv',\n",
              " 'unknown_data_magnetometer_trial1.csv',\n",
              " 'Sitting_Data_Magnetometer_Trial2.csv',\n",
              " 'Lateral_Right_Side_Magnetometer_Trial2.csv']"
            ]
          },
          "metadata": {},
          "execution_count": 88
        }
      ]
    },
    {
      "cell_type": "code",
      "source": [
        "# csv files directory for accelerometer\n",
        "num_acc_files = (os.listdir(accelerometer_path))\n",
        "num_acc_files"
      ],
      "metadata": {
        "colab": {
          "base_uri": "https://localhost:8080/"
        },
        "id": "leGNYago72F5",
        "outputId": "d98f8fb9-a906-4f54-bad1-c04d654d45ed"
      },
      "execution_count": 89,
      "outputs": [
        {
          "output_type": "execute_result",
          "data": {
            "text/plain": [
              "['Lateral_Left_Side_Accelerometer_Trial1.csv',\n",
              " 'Lateral_Left_Side_Accelerometer_Trial2.csv',\n",
              " 'Supine_Accelerometer_Trial2.csv',\n",
              " 'Supine_Accelerometer_Trial1.csv',\n",
              " 'Sitting_Data_Accelerometer_Trial2.csv',\n",
              " 'unknown_data_accelerometer_trial2.csv',\n",
              " 'Sitting_Data_Accelerometer_Trial1.csv',\n",
              " 'Prone_Accelerometer_Trial1.csv',\n",
              " 'Lateral_Right_Side_Accelerometer_Trial1.csv',\n",
              " 'Prone_Accelerometer_Trial2.csv',\n",
              " 'unknown_data_accelerometer_trial1.csv',\n",
              " 'Lateral_Right_Side_Aceelerometer_Trial2.csv']"
            ]
          },
          "metadata": {},
          "execution_count": 89
        }
      ]
    },
    {
      "cell_type": "code",
      "source": [
        "# csv files directory for gyroscope\n",
        "num_gyro_files = (os.listdir(gyroscope_path))\n",
        "num_gyro_files"
      ],
      "metadata": {
        "colab": {
          "base_uri": "https://localhost:8080/"
        },
        "id": "85c1ODpg73fS",
        "outputId": "ec6353f8-16a4-4b04-bcb2-2438adc77641"
      },
      "execution_count": 90,
      "outputs": [
        {
          "output_type": "execute_result",
          "data": {
            "text/plain": [
              "['unknown_data_gyroscope_trial1.csv',\n",
              " 'Lateral_Right_Side_Gyroscope_Trial2.csv',\n",
              " 'unknown_data_gyroscope_trial2.csv',\n",
              " 'Sitting_Data_Gyroscope_Trial2.csv',\n",
              " 'Prone_Gyroscope_Trial1.csv',\n",
              " 'Prone_Gyroscope_Trial2.csv',\n",
              " 'Lateral_Left_Side_Gyroscope_Trial2.csv',\n",
              " 'Supine_Gyroscope_Trial2.csv',\n",
              " 'Lateral_Left_Side_Gyroscope_Trial1.csv',\n",
              " 'Sitting_Data_Gyroscope_Trial1.csv',\n",
              " 'Lateral_Right_Side_Gyroscope_Trial1.csv',\n",
              " 'Supine_Gyroscope_Trial1.csv']"
            ]
          },
          "metadata": {},
          "execution_count": 90
        }
      ]
    },
    {
      "cell_type": "code",
      "source": [
        "# Dictionary to store magnetometer DataFrames\n",
        "dataframes = {}\n",
        "for idx, file in enumerate(num_mag_files):\n",
        "  file_mag_path = os.path.join(magnetometer_path, file)\n",
        "  dataframes[f\"df_mg{idx+1}\"] = pd.read_csv(file_mag_path, skiprows=1, header=0)\n",
        "\n",
        "# dataframes['df_mg1'].head()\n",
        "dataframes\n",
        "\n",
        "# initialize the empty dataframe\n",
        "df_mag_concatenated = pd.DataFrame()\n",
        "\n",
        "# get concatenated datafram, iterates over dataframes\n",
        "for idx, df in dataframes.items():\n",
        "  df_mag_concatenated = pd.concat([df_mag_concatenated, df], axis=0, ignore_index=True)\n",
        "\n",
        "df_mag_concatenated = df_mag_concatenated[['P','X_M','Y_M','Z_M']]\n",
        "print(df_mag_concatenated.shape)\n",
        "df_mag_concatenated"
      ],
      "metadata": {
        "colab": {
          "base_uri": "https://localhost:8080/",
          "height": 441
        },
        "id": "cLyGdIzZ5TUv",
        "outputId": "e674ddb1-013f-40d4-e8bf-5fa505d91253"
      },
      "execution_count": 61,
      "outputs": [
        {
          "output_type": "stream",
          "name": "stdout",
          "text": [
            "(3609, 4)\n"
          ]
        },
        {
          "output_type": "execute_result",
          "data": {
            "text/plain": [
              "            P    X_M    Y_M    Z_M\n",
              "0     Sitting  42.04  23.82 -83.01\n",
              "1     Sitting  42.22  24.28 -83.50\n",
              "2     Sitting  42.47  23.58 -82.59\n",
              "3     Sitting  42.48  23.91 -82.82\n",
              "4     Sitting  42.20  23.95 -82.45\n",
              "...       ...    ...    ...    ...\n",
              "3604     Side   4.04  21.57  34.94\n",
              "3605     Side   3.65  21.19  34.19\n",
              "3606     Side   3.91  20.92  34.52\n",
              "3607     Side   4.32  21.02  35.34\n",
              "3608     Side   4.28  20.96  34.91\n",
              "\n",
              "[3609 rows x 4 columns]"
            ],
            "text/html": [
              "\n",
              "  <div id=\"df-e3d041e1-029d-4da3-98be-47e9411a45df\" class=\"colab-df-container\">\n",
              "    <div>\n",
              "<style scoped>\n",
              "    .dataframe tbody tr th:only-of-type {\n",
              "        vertical-align: middle;\n",
              "    }\n",
              "\n",
              "    .dataframe tbody tr th {\n",
              "        vertical-align: top;\n",
              "    }\n",
              "\n",
              "    .dataframe thead th {\n",
              "        text-align: right;\n",
              "    }\n",
              "</style>\n",
              "<table border=\"1\" class=\"dataframe\">\n",
              "  <thead>\n",
              "    <tr style=\"text-align: right;\">\n",
              "      <th></th>\n",
              "      <th>P</th>\n",
              "      <th>X_M</th>\n",
              "      <th>Y_M</th>\n",
              "      <th>Z_M</th>\n",
              "    </tr>\n",
              "  </thead>\n",
              "  <tbody>\n",
              "    <tr>\n",
              "      <th>0</th>\n",
              "      <td>Sitting</td>\n",
              "      <td>42.04</td>\n",
              "      <td>23.82</td>\n",
              "      <td>-83.01</td>\n",
              "    </tr>\n",
              "    <tr>\n",
              "      <th>1</th>\n",
              "      <td>Sitting</td>\n",
              "      <td>42.22</td>\n",
              "      <td>24.28</td>\n",
              "      <td>-83.50</td>\n",
              "    </tr>\n",
              "    <tr>\n",
              "      <th>2</th>\n",
              "      <td>Sitting</td>\n",
              "      <td>42.47</td>\n",
              "      <td>23.58</td>\n",
              "      <td>-82.59</td>\n",
              "    </tr>\n",
              "    <tr>\n",
              "      <th>3</th>\n",
              "      <td>Sitting</td>\n",
              "      <td>42.48</td>\n",
              "      <td>23.91</td>\n",
              "      <td>-82.82</td>\n",
              "    </tr>\n",
              "    <tr>\n",
              "      <th>4</th>\n",
              "      <td>Sitting</td>\n",
              "      <td>42.20</td>\n",
              "      <td>23.95</td>\n",
              "      <td>-82.45</td>\n",
              "    </tr>\n",
              "    <tr>\n",
              "      <th>...</th>\n",
              "      <td>...</td>\n",
              "      <td>...</td>\n",
              "      <td>...</td>\n",
              "      <td>...</td>\n",
              "    </tr>\n",
              "    <tr>\n",
              "      <th>3604</th>\n",
              "      <td>Side</td>\n",
              "      <td>4.04</td>\n",
              "      <td>21.57</td>\n",
              "      <td>34.94</td>\n",
              "    </tr>\n",
              "    <tr>\n",
              "      <th>3605</th>\n",
              "      <td>Side</td>\n",
              "      <td>3.65</td>\n",
              "      <td>21.19</td>\n",
              "      <td>34.19</td>\n",
              "    </tr>\n",
              "    <tr>\n",
              "      <th>3606</th>\n",
              "      <td>Side</td>\n",
              "      <td>3.91</td>\n",
              "      <td>20.92</td>\n",
              "      <td>34.52</td>\n",
              "    </tr>\n",
              "    <tr>\n",
              "      <th>3607</th>\n",
              "      <td>Side</td>\n",
              "      <td>4.32</td>\n",
              "      <td>21.02</td>\n",
              "      <td>35.34</td>\n",
              "    </tr>\n",
              "    <tr>\n",
              "      <th>3608</th>\n",
              "      <td>Side</td>\n",
              "      <td>4.28</td>\n",
              "      <td>20.96</td>\n",
              "      <td>34.91</td>\n",
              "    </tr>\n",
              "  </tbody>\n",
              "</table>\n",
              "<p>3609 rows × 4 columns</p>\n",
              "</div>\n",
              "    <div class=\"colab-df-buttons\">\n",
              "\n",
              "  <div class=\"colab-df-container\">\n",
              "    <button class=\"colab-df-convert\" onclick=\"convertToInteractive('df-e3d041e1-029d-4da3-98be-47e9411a45df')\"\n",
              "            title=\"Convert this dataframe to an interactive table.\"\n",
              "            style=\"display:none;\">\n",
              "\n",
              "  <svg xmlns=\"http://www.w3.org/2000/svg\" height=\"24px\" viewBox=\"0 -960 960 960\">\n",
              "    <path d=\"M120-120v-720h720v720H120Zm60-500h600v-160H180v160Zm220 220h160v-160H400v160Zm0 220h160v-160H400v160ZM180-400h160v-160H180v160Zm440 0h160v-160H620v160ZM180-180h160v-160H180v160Zm440 0h160v-160H620v160Z\"/>\n",
              "  </svg>\n",
              "    </button>\n",
              "\n",
              "  <style>\n",
              "    .colab-df-container {\n",
              "      display:flex;\n",
              "      gap: 12px;\n",
              "    }\n",
              "\n",
              "    .colab-df-convert {\n",
              "      background-color: #E8F0FE;\n",
              "      border: none;\n",
              "      border-radius: 50%;\n",
              "      cursor: pointer;\n",
              "      display: none;\n",
              "      fill: #1967D2;\n",
              "      height: 32px;\n",
              "      padding: 0 0 0 0;\n",
              "      width: 32px;\n",
              "    }\n",
              "\n",
              "    .colab-df-convert:hover {\n",
              "      background-color: #E2EBFA;\n",
              "      box-shadow: 0px 1px 2px rgba(60, 64, 67, 0.3), 0px 1px 3px 1px rgba(60, 64, 67, 0.15);\n",
              "      fill: #174EA6;\n",
              "    }\n",
              "\n",
              "    .colab-df-buttons div {\n",
              "      margin-bottom: 4px;\n",
              "    }\n",
              "\n",
              "    [theme=dark] .colab-df-convert {\n",
              "      background-color: #3B4455;\n",
              "      fill: #D2E3FC;\n",
              "    }\n",
              "\n",
              "    [theme=dark] .colab-df-convert:hover {\n",
              "      background-color: #434B5C;\n",
              "      box-shadow: 0px 1px 3px 1px rgba(0, 0, 0, 0.15);\n",
              "      filter: drop-shadow(0px 1px 2px rgba(0, 0, 0, 0.3));\n",
              "      fill: #FFFFFF;\n",
              "    }\n",
              "  </style>\n",
              "\n",
              "    <script>\n",
              "      const buttonEl =\n",
              "        document.querySelector('#df-e3d041e1-029d-4da3-98be-47e9411a45df button.colab-df-convert');\n",
              "      buttonEl.style.display =\n",
              "        google.colab.kernel.accessAllowed ? 'block' : 'none';\n",
              "\n",
              "      async function convertToInteractive(key) {\n",
              "        const element = document.querySelector('#df-e3d041e1-029d-4da3-98be-47e9411a45df');\n",
              "        const dataTable =\n",
              "          await google.colab.kernel.invokeFunction('convertToInteractive',\n",
              "                                                    [key], {});\n",
              "        if (!dataTable) return;\n",
              "\n",
              "        const docLinkHtml = 'Like what you see? Visit the ' +\n",
              "          '<a target=\"_blank\" href=https://colab.research.google.com/notebooks/data_table.ipynb>data table notebook</a>'\n",
              "          + ' to learn more about interactive tables.';\n",
              "        element.innerHTML = '';\n",
              "        dataTable['output_type'] = 'display_data';\n",
              "        await google.colab.output.renderOutput(dataTable, element);\n",
              "        const docLink = document.createElement('div');\n",
              "        docLink.innerHTML = docLinkHtml;\n",
              "        element.appendChild(docLink);\n",
              "      }\n",
              "    </script>\n",
              "  </div>\n",
              "\n",
              "\n",
              "<div id=\"df-5fc28c16-6333-47de-828e-ec457862dfe3\">\n",
              "  <button class=\"colab-df-quickchart\" onclick=\"quickchart('df-5fc28c16-6333-47de-828e-ec457862dfe3')\"\n",
              "            title=\"Suggest charts.\"\n",
              "            style=\"display:none;\">\n",
              "\n",
              "<svg xmlns=\"http://www.w3.org/2000/svg\" height=\"24px\"viewBox=\"0 0 24 24\"\n",
              "     width=\"24px\">\n",
              "    <g>\n",
              "        <path d=\"M19 3H5c-1.1 0-2 .9-2 2v14c0 1.1.9 2 2 2h14c1.1 0 2-.9 2-2V5c0-1.1-.9-2-2-2zM9 17H7v-7h2v7zm4 0h-2V7h2v10zm4 0h-2v-4h2v4z\"/>\n",
              "    </g>\n",
              "</svg>\n",
              "  </button>\n",
              "\n",
              "<style>\n",
              "  .colab-df-quickchart {\n",
              "      --bg-color: #E8F0FE;\n",
              "      --fill-color: #1967D2;\n",
              "      --hover-bg-color: #E2EBFA;\n",
              "      --hover-fill-color: #174EA6;\n",
              "      --disabled-fill-color: #AAA;\n",
              "      --disabled-bg-color: #DDD;\n",
              "  }\n",
              "\n",
              "  [theme=dark] .colab-df-quickchart {\n",
              "      --bg-color: #3B4455;\n",
              "      --fill-color: #D2E3FC;\n",
              "      --hover-bg-color: #434B5C;\n",
              "      --hover-fill-color: #FFFFFF;\n",
              "      --disabled-bg-color: #3B4455;\n",
              "      --disabled-fill-color: #666;\n",
              "  }\n",
              "\n",
              "  .colab-df-quickchart {\n",
              "    background-color: var(--bg-color);\n",
              "    border: none;\n",
              "    border-radius: 50%;\n",
              "    cursor: pointer;\n",
              "    display: none;\n",
              "    fill: var(--fill-color);\n",
              "    height: 32px;\n",
              "    padding: 0;\n",
              "    width: 32px;\n",
              "  }\n",
              "\n",
              "  .colab-df-quickchart:hover {\n",
              "    background-color: var(--hover-bg-color);\n",
              "    box-shadow: 0 1px 2px rgba(60, 64, 67, 0.3), 0 1px 3px 1px rgba(60, 64, 67, 0.15);\n",
              "    fill: var(--button-hover-fill-color);\n",
              "  }\n",
              "\n",
              "  .colab-df-quickchart-complete:disabled,\n",
              "  .colab-df-quickchart-complete:disabled:hover {\n",
              "    background-color: var(--disabled-bg-color);\n",
              "    fill: var(--disabled-fill-color);\n",
              "    box-shadow: none;\n",
              "  }\n",
              "\n",
              "  .colab-df-spinner {\n",
              "    border: 2px solid var(--fill-color);\n",
              "    border-color: transparent;\n",
              "    border-bottom-color: var(--fill-color);\n",
              "    animation:\n",
              "      spin 1s steps(1) infinite;\n",
              "  }\n",
              "\n",
              "  @keyframes spin {\n",
              "    0% {\n",
              "      border-color: transparent;\n",
              "      border-bottom-color: var(--fill-color);\n",
              "      border-left-color: var(--fill-color);\n",
              "    }\n",
              "    20% {\n",
              "      border-color: transparent;\n",
              "      border-left-color: var(--fill-color);\n",
              "      border-top-color: var(--fill-color);\n",
              "    }\n",
              "    30% {\n",
              "      border-color: transparent;\n",
              "      border-left-color: var(--fill-color);\n",
              "      border-top-color: var(--fill-color);\n",
              "      border-right-color: var(--fill-color);\n",
              "    }\n",
              "    40% {\n",
              "      border-color: transparent;\n",
              "      border-right-color: var(--fill-color);\n",
              "      border-top-color: var(--fill-color);\n",
              "    }\n",
              "    60% {\n",
              "      border-color: transparent;\n",
              "      border-right-color: var(--fill-color);\n",
              "    }\n",
              "    80% {\n",
              "      border-color: transparent;\n",
              "      border-right-color: var(--fill-color);\n",
              "      border-bottom-color: var(--fill-color);\n",
              "    }\n",
              "    90% {\n",
              "      border-color: transparent;\n",
              "      border-bottom-color: var(--fill-color);\n",
              "    }\n",
              "  }\n",
              "</style>\n",
              "\n",
              "  <script>\n",
              "    async function quickchart(key) {\n",
              "      const quickchartButtonEl =\n",
              "        document.querySelector('#' + key + ' button');\n",
              "      quickchartButtonEl.disabled = true;  // To prevent multiple clicks.\n",
              "      quickchartButtonEl.classList.add('colab-df-spinner');\n",
              "      try {\n",
              "        const charts = await google.colab.kernel.invokeFunction(\n",
              "            'suggestCharts', [key], {});\n",
              "      } catch (error) {\n",
              "        console.error('Error during call to suggestCharts:', error);\n",
              "      }\n",
              "      quickchartButtonEl.classList.remove('colab-df-spinner');\n",
              "      quickchartButtonEl.classList.add('colab-df-quickchart-complete');\n",
              "    }\n",
              "    (() => {\n",
              "      let quickchartButtonEl =\n",
              "        document.querySelector('#df-5fc28c16-6333-47de-828e-ec457862dfe3 button');\n",
              "      quickchartButtonEl.style.display =\n",
              "        google.colab.kernel.accessAllowed ? 'block' : 'none';\n",
              "    })();\n",
              "  </script>\n",
              "</div>\n",
              "    </div>\n",
              "  </div>\n"
            ]
          },
          "metadata": {},
          "execution_count": 61
        }
      ]
    },
    {
      "cell_type": "code",
      "source": [
        "# Dictionary to store accelerometer DataFrames\n",
        "dataframes = {}\n",
        "for idx, file in enumerate(num_acc_files):\n",
        "  file_acc_path = os.path.join(accelerometer_path, file)\n",
        "  dataframes[f\"df_acc{idx+1}\"] = pd.read_csv(file_acc_path, skiprows=1, header=0)\n",
        "\n",
        "dataframes\n",
        "\n",
        "## initialize the empty dataframe\n",
        "df_acc_concatenated = pd.DataFrame()\n",
        "\n",
        "# get concatenated datafram, iterates over dataframes\n",
        "for idx, df in dataframes.items():\n",
        "  df_acc_concatenated = pd.concat([df_acc_concatenated, df], axis=0, ignore_index=True)\n",
        "\n",
        "df_acc_concatenated = df_acc_concatenated[['P','X_A','Y_A','Z_A']]\n",
        "df_acc_concatenated = df_acc_concatenated.iloc[:-3]\n",
        "print(df_acc_concatenated.shape)"
      ],
      "metadata": {
        "id": "6mWT4h695TYq"
      },
      "execution_count": null,
      "outputs": []
    },
    {
      "cell_type": "code",
      "source": [
        "# Dictionary to store gyroscope DataFrames\n",
        "dataframes = {}\n",
        "for idx, file in enumerate(num_gyro_files):\n",
        "  file_gyro_path = os.path.join(gyroscope_path, file)\n",
        "  dataframes[f\"df_mg{idx+1}\"] = pd.read_csv(file_gyro_path, skiprows=1, header=0)\n",
        "\n",
        "dataframes\n",
        "\n",
        "## initialize the empty dataframe\n",
        "df_gyro_concatenated = pd.DataFrame()\n",
        "\n",
        "# get concatenated datafram, iterates over dataframes\n",
        "for idx, df in dataframes.items():\n",
        "  df_gyro_concatenated = pd.concat([df_gyro_concatenated, df], axis=0, ignore_index=True)\n",
        "\n",
        "df_gyro_concatenated = df_gyro_concatenated[['P','X_G','Y_G','Z_G']]\n",
        "df_gyro_concatenated = df_gyro_concatenated.iloc[:-3]\n",
        "print(df_gyro_concatenated.shape)\n",
        "df_gyro_concatenated.head()"
      ],
      "metadata": {
        "colab": {
          "base_uri": "https://localhost:8080/",
          "height": 223
        },
        "id": "HuV8ARen81-x",
        "outputId": "dba3c3be-d826-4ca4-82ad-7973aba674f8"
      },
      "execution_count": 91,
      "outputs": [
        {
          "output_type": "stream",
          "name": "stdout",
          "text": [
            "(3609, 4)\n"
          ]
        },
        {
          "output_type": "execute_result",
          "data": {
            "text/plain": [
              "         P   X_G   Y_G   Z_G\n",
              "0  Unknown  1.71  2.14 -0.73\n",
              "1  Unknown  1.34  2.20 -0.92\n",
              "2  Unknown  0.73  2.50 -1.04\n",
              "3  Unknown  1.10  2.20 -0.67\n",
              "4  Unknown  1.28  2.08 -0.85"
            ],
            "text/html": [
              "\n",
              "  <div id=\"df-7dd6a455-e764-4990-a8bd-dea3c27008a8\" class=\"colab-df-container\">\n",
              "    <div>\n",
              "<style scoped>\n",
              "    .dataframe tbody tr th:only-of-type {\n",
              "        vertical-align: middle;\n",
              "    }\n",
              "\n",
              "    .dataframe tbody tr th {\n",
              "        vertical-align: top;\n",
              "    }\n",
              "\n",
              "    .dataframe thead th {\n",
              "        text-align: right;\n",
              "    }\n",
              "</style>\n",
              "<table border=\"1\" class=\"dataframe\">\n",
              "  <thead>\n",
              "    <tr style=\"text-align: right;\">\n",
              "      <th></th>\n",
              "      <th>P</th>\n",
              "      <th>X_G</th>\n",
              "      <th>Y_G</th>\n",
              "      <th>Z_G</th>\n",
              "    </tr>\n",
              "  </thead>\n",
              "  <tbody>\n",
              "    <tr>\n",
              "      <th>0</th>\n",
              "      <td>Unknown</td>\n",
              "      <td>1.71</td>\n",
              "      <td>2.14</td>\n",
              "      <td>-0.73</td>\n",
              "    </tr>\n",
              "    <tr>\n",
              "      <th>1</th>\n",
              "      <td>Unknown</td>\n",
              "      <td>1.34</td>\n",
              "      <td>2.20</td>\n",
              "      <td>-0.92</td>\n",
              "    </tr>\n",
              "    <tr>\n",
              "      <th>2</th>\n",
              "      <td>Unknown</td>\n",
              "      <td>0.73</td>\n",
              "      <td>2.50</td>\n",
              "      <td>-1.04</td>\n",
              "    </tr>\n",
              "    <tr>\n",
              "      <th>3</th>\n",
              "      <td>Unknown</td>\n",
              "      <td>1.10</td>\n",
              "      <td>2.20</td>\n",
              "      <td>-0.67</td>\n",
              "    </tr>\n",
              "    <tr>\n",
              "      <th>4</th>\n",
              "      <td>Unknown</td>\n",
              "      <td>1.28</td>\n",
              "      <td>2.08</td>\n",
              "      <td>-0.85</td>\n",
              "    </tr>\n",
              "  </tbody>\n",
              "</table>\n",
              "</div>\n",
              "    <div class=\"colab-df-buttons\">\n",
              "\n",
              "  <div class=\"colab-df-container\">\n",
              "    <button class=\"colab-df-convert\" onclick=\"convertToInteractive('df-7dd6a455-e764-4990-a8bd-dea3c27008a8')\"\n",
              "            title=\"Convert this dataframe to an interactive table.\"\n",
              "            style=\"display:none;\">\n",
              "\n",
              "  <svg xmlns=\"http://www.w3.org/2000/svg\" height=\"24px\" viewBox=\"0 -960 960 960\">\n",
              "    <path d=\"M120-120v-720h720v720H120Zm60-500h600v-160H180v160Zm220 220h160v-160H400v160Zm0 220h160v-160H400v160ZM180-400h160v-160H180v160Zm440 0h160v-160H620v160ZM180-180h160v-160H180v160Zm440 0h160v-160H620v160Z\"/>\n",
              "  </svg>\n",
              "    </button>\n",
              "\n",
              "  <style>\n",
              "    .colab-df-container {\n",
              "      display:flex;\n",
              "      gap: 12px;\n",
              "    }\n",
              "\n",
              "    .colab-df-convert {\n",
              "      background-color: #E8F0FE;\n",
              "      border: none;\n",
              "      border-radius: 50%;\n",
              "      cursor: pointer;\n",
              "      display: none;\n",
              "      fill: #1967D2;\n",
              "      height: 32px;\n",
              "      padding: 0 0 0 0;\n",
              "      width: 32px;\n",
              "    }\n",
              "\n",
              "    .colab-df-convert:hover {\n",
              "      background-color: #E2EBFA;\n",
              "      box-shadow: 0px 1px 2px rgba(60, 64, 67, 0.3), 0px 1px 3px 1px rgba(60, 64, 67, 0.15);\n",
              "      fill: #174EA6;\n",
              "    }\n",
              "\n",
              "    .colab-df-buttons div {\n",
              "      margin-bottom: 4px;\n",
              "    }\n",
              "\n",
              "    [theme=dark] .colab-df-convert {\n",
              "      background-color: #3B4455;\n",
              "      fill: #D2E3FC;\n",
              "    }\n",
              "\n",
              "    [theme=dark] .colab-df-convert:hover {\n",
              "      background-color: #434B5C;\n",
              "      box-shadow: 0px 1px 3px 1px rgba(0, 0, 0, 0.15);\n",
              "      filter: drop-shadow(0px 1px 2px rgba(0, 0, 0, 0.3));\n",
              "      fill: #FFFFFF;\n",
              "    }\n",
              "  </style>\n",
              "\n",
              "    <script>\n",
              "      const buttonEl =\n",
              "        document.querySelector('#df-7dd6a455-e764-4990-a8bd-dea3c27008a8 button.colab-df-convert');\n",
              "      buttonEl.style.display =\n",
              "        google.colab.kernel.accessAllowed ? 'block' : 'none';\n",
              "\n",
              "      async function convertToInteractive(key) {\n",
              "        const element = document.querySelector('#df-7dd6a455-e764-4990-a8bd-dea3c27008a8');\n",
              "        const dataTable =\n",
              "          await google.colab.kernel.invokeFunction('convertToInteractive',\n",
              "                                                    [key], {});\n",
              "        if (!dataTable) return;\n",
              "\n",
              "        const docLinkHtml = 'Like what you see? Visit the ' +\n",
              "          '<a target=\"_blank\" href=https://colab.research.google.com/notebooks/data_table.ipynb>data table notebook</a>'\n",
              "          + ' to learn more about interactive tables.';\n",
              "        element.innerHTML = '';\n",
              "        dataTable['output_type'] = 'display_data';\n",
              "        await google.colab.output.renderOutput(dataTable, element);\n",
              "        const docLink = document.createElement('div');\n",
              "        docLink.innerHTML = docLinkHtml;\n",
              "        element.appendChild(docLink);\n",
              "      }\n",
              "    </script>\n",
              "  </div>\n",
              "\n",
              "\n",
              "<div id=\"df-ae3213ea-c111-4126-b699-92becdae5b63\">\n",
              "  <button class=\"colab-df-quickchart\" onclick=\"quickchart('df-ae3213ea-c111-4126-b699-92becdae5b63')\"\n",
              "            title=\"Suggest charts.\"\n",
              "            style=\"display:none;\">\n",
              "\n",
              "<svg xmlns=\"http://www.w3.org/2000/svg\" height=\"24px\"viewBox=\"0 0 24 24\"\n",
              "     width=\"24px\">\n",
              "    <g>\n",
              "        <path d=\"M19 3H5c-1.1 0-2 .9-2 2v14c0 1.1.9 2 2 2h14c1.1 0 2-.9 2-2V5c0-1.1-.9-2-2-2zM9 17H7v-7h2v7zm4 0h-2V7h2v10zm4 0h-2v-4h2v4z\"/>\n",
              "    </g>\n",
              "</svg>\n",
              "  </button>\n",
              "\n",
              "<style>\n",
              "  .colab-df-quickchart {\n",
              "      --bg-color: #E8F0FE;\n",
              "      --fill-color: #1967D2;\n",
              "      --hover-bg-color: #E2EBFA;\n",
              "      --hover-fill-color: #174EA6;\n",
              "      --disabled-fill-color: #AAA;\n",
              "      --disabled-bg-color: #DDD;\n",
              "  }\n",
              "\n",
              "  [theme=dark] .colab-df-quickchart {\n",
              "      --bg-color: #3B4455;\n",
              "      --fill-color: #D2E3FC;\n",
              "      --hover-bg-color: #434B5C;\n",
              "      --hover-fill-color: #FFFFFF;\n",
              "      --disabled-bg-color: #3B4455;\n",
              "      --disabled-fill-color: #666;\n",
              "  }\n",
              "\n",
              "  .colab-df-quickchart {\n",
              "    background-color: var(--bg-color);\n",
              "    border: none;\n",
              "    border-radius: 50%;\n",
              "    cursor: pointer;\n",
              "    display: none;\n",
              "    fill: var(--fill-color);\n",
              "    height: 32px;\n",
              "    padding: 0;\n",
              "    width: 32px;\n",
              "  }\n",
              "\n",
              "  .colab-df-quickchart:hover {\n",
              "    background-color: var(--hover-bg-color);\n",
              "    box-shadow: 0 1px 2px rgba(60, 64, 67, 0.3), 0 1px 3px 1px rgba(60, 64, 67, 0.15);\n",
              "    fill: var(--button-hover-fill-color);\n",
              "  }\n",
              "\n",
              "  .colab-df-quickchart-complete:disabled,\n",
              "  .colab-df-quickchart-complete:disabled:hover {\n",
              "    background-color: var(--disabled-bg-color);\n",
              "    fill: var(--disabled-fill-color);\n",
              "    box-shadow: none;\n",
              "  }\n",
              "\n",
              "  .colab-df-spinner {\n",
              "    border: 2px solid var(--fill-color);\n",
              "    border-color: transparent;\n",
              "    border-bottom-color: var(--fill-color);\n",
              "    animation:\n",
              "      spin 1s steps(1) infinite;\n",
              "  }\n",
              "\n",
              "  @keyframes spin {\n",
              "    0% {\n",
              "      border-color: transparent;\n",
              "      border-bottom-color: var(--fill-color);\n",
              "      border-left-color: var(--fill-color);\n",
              "    }\n",
              "    20% {\n",
              "      border-color: transparent;\n",
              "      border-left-color: var(--fill-color);\n",
              "      border-top-color: var(--fill-color);\n",
              "    }\n",
              "    30% {\n",
              "      border-color: transparent;\n",
              "      border-left-color: var(--fill-color);\n",
              "      border-top-color: var(--fill-color);\n",
              "      border-right-color: var(--fill-color);\n",
              "    }\n",
              "    40% {\n",
              "      border-color: transparent;\n",
              "      border-right-color: var(--fill-color);\n",
              "      border-top-color: var(--fill-color);\n",
              "    }\n",
              "    60% {\n",
              "      border-color: transparent;\n",
              "      border-right-color: var(--fill-color);\n",
              "    }\n",
              "    80% {\n",
              "      border-color: transparent;\n",
              "      border-right-color: var(--fill-color);\n",
              "      border-bottom-color: var(--fill-color);\n",
              "    }\n",
              "    90% {\n",
              "      border-color: transparent;\n",
              "      border-bottom-color: var(--fill-color);\n",
              "    }\n",
              "  }\n",
              "</style>\n",
              "\n",
              "  <script>\n",
              "    async function quickchart(key) {\n",
              "      const quickchartButtonEl =\n",
              "        document.querySelector('#' + key + ' button');\n",
              "      quickchartButtonEl.disabled = true;  // To prevent multiple clicks.\n",
              "      quickchartButtonEl.classList.add('colab-df-spinner');\n",
              "      try {\n",
              "        const charts = await google.colab.kernel.invokeFunction(\n",
              "            'suggestCharts', [key], {});\n",
              "      } catch (error) {\n",
              "        console.error('Error during call to suggestCharts:', error);\n",
              "      }\n",
              "      quickchartButtonEl.classList.remove('colab-df-spinner');\n",
              "      quickchartButtonEl.classList.add('colab-df-quickchart-complete');\n",
              "    }\n",
              "    (() => {\n",
              "      let quickchartButtonEl =\n",
              "        document.querySelector('#df-ae3213ea-c111-4126-b699-92becdae5b63 button');\n",
              "      quickchartButtonEl.style.display =\n",
              "        google.colab.kernel.accessAllowed ? 'block' : 'none';\n",
              "    })();\n",
              "  </script>\n",
              "</div>\n",
              "    </div>\n",
              "  </div>\n"
            ]
          },
          "metadata": {},
          "execution_count": 91
        }
      ]
    },
    {
      "cell_type": "markdown",
      "source": [
        "##Perform Machine Learning training"
      ],
      "metadata": {
        "id": "xUekQIKKBbqu"
      }
    },
    {
      "cell_type": "code",
      "source": [
        "import numpy as np\n",
        "import pandas as pd\n",
        "import tensorflow as tf\n",
        "from tensorflow.keras import layers, models\n",
        "from sklearn.model_selection import train_test_split\n",
        "from sklearn.preprocessing import LabelEncoder\n",
        "from sklearn.preprocessing import StandardScaler"
      ],
      "metadata": {
        "id": "JpRlYVLh5Ta0"
      },
      "execution_count": 79,
      "outputs": []
    },
    {
      "cell_type": "markdown",
      "source": [
        "Accelerometer ML *model*"
      ],
      "metadata": {
        "id": "nCzECrZ0Bsvs"
      }
    },
    {
      "cell_type": "code",
      "source": [
        "########Accelerometer######\n",
        "# define input and output\n",
        "X = df_acc_concatenated[['X_A', 'Y_A', 'Z_A']].values\n",
        "y = df_acc_concatenated['P'].values\n",
        "\n",
        "# encoding categorical feature into integer\n",
        "label_encoder = LabelEncoder()\n",
        "y_encoded = label_encoder.fit_transform(y)\n",
        "\n",
        "# Split dataset\n",
        "X_train, X_test, y_train, y_test = train_test_split(X, y_encoded, test_size=0.2, random_state=42)\n",
        "\n",
        "# Normalization\n",
        "scaler = StandardScaler()\n",
        "X_train = scaler.fit_transform(X_train)\n",
        "X_test = scaler.transform(X_test)\n",
        "\n",
        "# Define model\n",
        "model = models.Sequential()\n",
        "model.add(layers.Input(shape=(3,)))\n",
        "model.add(layers.Dense(128, activation='relu'))\n",
        "model.add(layers.Dropout(0.5))\n",
        "model.add(layers.Dense(64, activation='relu'))\n",
        "model.add(layers.Dropout(0.5))\n",
        "model.add(layers.Dense(num_classes, activation='softmax'))\n",
        "model.compile(optimizer='adam', loss='sparse_categorical_crossentropy', metrics=['accuracy'])\n",
        "model.summary()\n",
        "\n",
        "num_classes = len(label_encoder.classes_)\n",
        "print('num_classes', num_classes)\n",
        "\n",
        "# model training\n",
        "model.fit(X_train, y_train, epochs=10, batch_size=32, validation_split=0.1)\n",
        "\n",
        "# evaluation\n",
        "test_loss, test_accuracy = model.evaluate(X_test, y_test)\n",
        "print('test_loss', test_loss)\n",
        "print(f\"Test Accuracy: {test_accuracy * 100:.2f}%\")"
      ],
      "metadata": {
        "id": "s1auv5bc5TdF"
      },
      "execution_count": null,
      "outputs": []
    },
    {
      "cell_type": "code",
      "source": [
        "##### GYROSCOPE#\n",
        "\n",
        "# define input and output\n",
        "X = df_gyro_concatenated[['X_G', 'Y_G', 'Z_G']].values\n",
        "y = df_gyro_concatenated['P'].values\n",
        "\n",
        "# encode into integer\n",
        "label_encoder = LabelEncoder()\n",
        "y_encoded = label_encoder.fit_transform(y)\n",
        "\n",
        "# split dataset\n",
        "X_train, X_test, y_train, y_test = train_test_split(X, y_encoded, test_size=0.1, random_state=42)\n",
        "\n",
        "# normalization\n",
        "scaler = StandardScaler()\n",
        "X_train = scaler.fit_transform(X_train)\n",
        "X_test = scaler.transform(X_test)\n",
        "\n",
        "# normalization\n",
        "model = models.Sequential()\n",
        "model.add(layers.Input(shape=(3,)))\n",
        "model.add(layers.Dense(512, activation='relu'))\n",
        "model.add(layers.Dropout(0.5))\n",
        "model.add(layers.Dense(128, activation='relu'))\n",
        "model.add(layers.Dropout(0.5))\n",
        "model.add(layers.Dense(64, activation='relu'))\n",
        "model.add(layers.Dropout(0.5))\n",
        "model.add(layers.Dense(num_classes, activation='softmax'))\n",
        "\n",
        "# define loss function and optimizer\n",
        "model.compile(optimizer='adam', loss='sparse_categorical_crossentropy', metrics=['accuracy'])\n",
        "model.summary()\n",
        "num_classes = len(label_encoder.classes_)\n",
        "print('num_classes', num_classes)\n",
        "\n",
        "# moidel training\n",
        "model.fit(X_train, y_train, epochs=30, batch_size=32, validation_split=0.1)\n",
        "\n",
        "# evaluation\n",
        "test_loss, test_accuracy = model.evaluate(X_test, y_test)\n",
        "print('test_loss', test_loss)\n",
        "print(f\"Test Accuracy: {test_accuracy * 100:.2f}%\")"
      ],
      "metadata": {
        "id": "O_fDWvE3D819"
      },
      "execution_count": null,
      "outputs": []
    },
    {
      "cell_type": "code",
      "source": [
        "#####Magnetometer########\n",
        "\n",
        "# define input and output\n",
        "X = df_mag_concatenated[['X_M', 'Y_M', 'Z_M']].values\n",
        "y = df_mag_concatenated['P'].values\n",
        "\n",
        "# encode categorical into integer\n",
        "label_encoder = LabelEncoder()\n",
        "y_encoded = label_encoder.fit_transform(y)\n",
        "\n",
        "# split dataset\n",
        "X_train, X_test, y_train, y_test = train_test_split(X, y_encoded, test_size=0.2, random_state=42)\n",
        "\n",
        "# normalization\n",
        "scaler = StandardScaler()\n",
        "X_train = scaler.fit_transform(X_train)\n",
        "X_test = scaler.transform(X_test)\n",
        "\n",
        "# define model\n",
        "model = models.Sequential()\n",
        "model.add(layers.Input(shape=(3,)))\n",
        "model.add(layers.Dense(128, activation='relu'))\n",
        "model.add(layers.Dropout(0.5))\n",
        "model.add(layers.Dense(64, activation='relu'))\n",
        "model.add(layers.Dropout(0.5))\n",
        "model.add(layers.Dense(num_classes, activation='softmax'))\n",
        "\n",
        "# define loss function and optimizer\n",
        "model.compile(optimizer='adam', loss='sparse_categorical_crossentropy', metrics=['accuracy'])\n",
        "model.summary()\n",
        "\n",
        "num_classes = len(label_encoder.classes_)\n",
        "print('num_classes', num_classes)\n",
        "\n",
        "# model training\n",
        "model.fit(X_train, y_train, epochs=10, batch_size=32, validation_split=0.1)\n",
        "\n",
        "# evaluation\n",
        "test_loss, test_accuracy = model.evaluate(X_test, y_test)\n",
        "print('test_loss', test_loss)\n",
        "print(f\"Test Accuracy: {test_accuracy * 100:.2f}%\")"
      ],
      "metadata": {
        "colab": {
          "base_uri": "https://localhost:8080/"
        },
        "id": "y8aoRDRYDqU7",
        "outputId": "c20c81dc-5a3f-4cb1-ec14-52a402c20e18"
      },
      "execution_count": 60,
      "outputs": [
        {
          "output_type": "stream",
          "name": "stdout",
          "text": [
            "num_classes 5\n",
            "Model: \"sequential_7\"\n",
            "_________________________________________________________________\n",
            " Layer (type)                Output Shape              Param #   \n",
            "=================================================================\n",
            " dense_20 (Dense)            (None, 128)               512       \n",
            "                                                                 \n",
            " dropout_14 (Dropout)        (None, 128)               0         \n",
            "                                                                 \n",
            " dense_21 (Dense)            (None, 64)                8256      \n",
            "                                                                 \n",
            " dropout_15 (Dropout)        (None, 64)                0         \n",
            "                                                                 \n",
            " dense_22 (Dense)            (None, 5)                 325       \n",
            "                                                                 \n",
            "=================================================================\n",
            "Total params: 9093 (35.52 KB)\n",
            "Trainable params: 9093 (35.52 KB)\n",
            "Non-trainable params: 0 (0.00 Byte)\n",
            "_________________________________________________________________\n",
            "Epoch 1/10\n",
            "82/82 [==============================] - 3s 8ms/step - loss: 0.9976 - accuracy: 0.7036 - val_loss: 0.4321 - val_accuracy: 1.0000\n",
            "Epoch 2/10\n",
            "82/82 [==============================] - 0s 6ms/step - loss: 0.3451 - accuracy: 0.9303 - val_loss: 0.1090 - val_accuracy: 1.0000\n",
            "Epoch 3/10\n",
            "82/82 [==============================] - 0s 6ms/step - loss: 0.1551 - accuracy: 0.9707 - val_loss: 0.0358 - val_accuracy: 1.0000\n",
            "Epoch 4/10\n",
            "82/82 [==============================] - 0s 5ms/step - loss: 0.0994 - accuracy: 0.9827 - val_loss: 0.0166 - val_accuracy: 1.0000\n",
            "Epoch 5/10\n",
            "82/82 [==============================] - 0s 4ms/step - loss: 0.0640 - accuracy: 0.9888 - val_loss: 0.0070 - val_accuracy: 1.0000\n",
            "Epoch 6/10\n",
            "82/82 [==============================] - 0s 4ms/step - loss: 0.0419 - accuracy: 0.9935 - val_loss: 0.0046 - val_accuracy: 1.0000\n",
            "Epoch 7/10\n",
            "82/82 [==============================] - 0s 4ms/step - loss: 0.0338 - accuracy: 0.9958 - val_loss: 0.0027 - val_accuracy: 1.0000\n",
            "Epoch 8/10\n",
            "82/82 [==============================] - 0s 5ms/step - loss: 0.0313 - accuracy: 0.9915 - val_loss: 0.0020 - val_accuracy: 1.0000\n",
            "Epoch 9/10\n",
            "82/82 [==============================] - 0s 4ms/step - loss: 0.0244 - accuracy: 0.9958 - val_loss: 0.0013 - val_accuracy: 1.0000\n",
            "Epoch 10/10\n",
            "82/82 [==============================] - 0s 4ms/step - loss: 0.0208 - accuracy: 0.9954 - val_loss: 0.0012 - val_accuracy: 1.0000\n",
            "23/23 [==============================] - 0s 3ms/step - loss: 0.0016 - accuracy: 1.0000\n",
            "test_loss 0.0015728322323411703\n",
            "Test Accuracy: 100.00%\n"
          ]
        }
      ]
    },
    {
      "cell_type": "code",
      "source": [
        "# get actual index for different classes after encoding\n",
        "unique_encoded_values = np.unique(y_encoded)\n",
        "original_labels = label_encoder.inverse_transform(unique_encoded_values)\n",
        "\n",
        "print(\"encoded values:\",unique_encoded_values )\n",
        "print(\"actual classes:\", original_labels)"
      ],
      "metadata": {
        "colab": {
          "base_uri": "https://localhost:8080/"
        },
        "id": "ODg-Fnn4EjEG",
        "outputId": "86b4735c-17ff-4043-8e6a-d51bd74b8874"
      },
      "execution_count": 63,
      "outputs": [
        {
          "output_type": "stream",
          "name": "stdout",
          "text": [
            "encoded values: [0 1 2 3 4]\n",
            "actual classes: ['Prone' 'Side' 'Sitting' 'Supine' 'Unknown']\n"
          ]
        }
      ]
    },
    {
      "cell_type": "code",
      "source": [
        "# save trained model and convert into .tflite\n",
        "model_file = \"posture_magf.h5\"\n",
        "\n",
        "model.save(\"posture_magf.h5\")\n",
        "\n",
        "model = tf.keras.models.load_model(model_file)\n",
        "\n",
        "converter = tf.lite.TFLiteConverter.from_keras_model(model)\n",
        "tflite_model = converter.convert()\n",
        "open(\"posture_magf.tflite\", \"wb\").write(tflite_model)"
      ],
      "metadata": {
        "colab": {
          "base_uri": "https://localhost:8080/"
        },
        "id": "Q7Xgy3urEvH_",
        "outputId": "4edef9b3-8d49-415e-fcb5-8ba81f3f3f15"
      },
      "execution_count": 64,
      "outputs": [
        {
          "output_type": "stream",
          "name": "stderr",
          "text": [
            "/usr/local/lib/python3.10/dist-packages/keras/src/engine/training.py:3000: UserWarning: You are saving your model as an HDF5 file via `model.save()`. This file format is considered legacy. We recommend using instead the native Keras format, e.g. `model.save('my_model.keras')`.\n",
            "  saving_api.save_model(\n"
          ]
        },
        {
          "output_type": "execute_result",
          "data": {
            "text/plain": [
              "38520"
            ]
          },
          "metadata": {},
          "execution_count": 64
        }
      ]
    },
    {
      "cell_type": "code",
      "source": [
        "# save trained model and convert into .tflite\n",
        "model_file = \"posture_gyrof.h5\"\n",
        "\n",
        "model.save(\"posture_gyrof.h5\")\n",
        "\n",
        "model = tf.keras.models.load_model(model_file)\n",
        "\n",
        "converter = tf.lite.TFLiteConverter.from_keras_model(model)\n",
        "tflite_model = converter.convert()\n",
        "open(\"posture_gyrof.tflite\", \"wb\").write(tflite_model)"
      ],
      "metadata": {
        "colab": {
          "base_uri": "https://localhost:8080/"
        },
        "id": "9FL3NtQXJkm5",
        "outputId": "5f17f445-279c-4852-ce5c-15cfecc0fbb3"
      },
      "execution_count": 100,
      "outputs": [
        {
          "output_type": "stream",
          "name": "stderr",
          "text": [
            "/usr/local/lib/python3.10/dist-packages/keras/src/engine/training.py:3000: UserWarning: You are saving your model as an HDF5 file via `model.save()`. This file format is considered legacy. We recommend using instead the native Keras format, e.g. `model.save('my_model.keras')`.\n",
            "  saving_api.save_model(\n"
          ]
        },
        {
          "output_type": "execute_result",
          "data": {
            "text/plain": [
              "308020"
            ]
          },
          "metadata": {},
          "execution_count": 100
        }
      ]
    },
    {
      "cell_type": "code",
      "source": [
        "# save trained model and convert into .tflite\n",
        "model_file = \"posture_acc.h5\"\n",
        "\n",
        "model.save(\"posture_acc.h5\")\n",
        "\n",
        "model = tf.keras.models.load_model(model_file)\n",
        "\n",
        "converter = tf.lite.TFLiteConverter.from_keras_model(model)\n",
        "tflite_model = converter.convert()\n",
        "open(\"posture_acc.tflite\", \"wb\").write(tflite_model)"
      ],
      "metadata": {
        "id": "Hds04dxy6YqK",
        "colab": {
          "base_uri": "https://localhost:8080/"
        },
        "outputId": "64e02dfb-be6b-4238-af48-6d8fbc1da0aa"
      },
      "execution_count": 93,
      "outputs": [
        {
          "output_type": "stream",
          "name": "stderr",
          "text": [
            "/usr/local/lib/python3.10/dist-packages/keras/src/engine/training.py:3000: UserWarning: You are saving your model as an HDF5 file via `model.save()`. This file format is considered legacy. We recommend using instead the native Keras format, e.g. `model.save('my_model.keras')`.\n",
            "  saving_api.save_model(\n"
          ]
        },
        {
          "output_type": "execute_result",
          "data": {
            "text/plain": [
              "38536"
            ]
          },
          "metadata": {},
          "execution_count": 93
        }
      ]
    },
    {
      "cell_type": "code",
      "source": [
        "# Test on some random new data\n",
        "# new_data = np.array([[0.04, 0.02, -1.01]]) # Actual prone data\n",
        "# new_data = np.array([[-1.01, -0.03, 0.02]]) # Actual Sitting data\n",
        "# new_data = np.array([[-0.03, -0.1, 0.97]]) # Actual Supine data\n",
        "# new_data = np.array([[-0.01, -1, -0.04]]) # Actual Side data\n",
        "# new_data = np.array([[0.74, -0.67, -0.08]]) # Actual Unknown data\n",
        "\n",
        "# Make predictions on new data\n",
        "predictions = model.predict(new_data)\n",
        "\n",
        "# Decode the predicted class index to obtain the posture label\n",
        "predicted_class_index = np.argmax(predictions, axis=1)\n",
        "predicted_class = label_encoder.inverse_transform(predicted_class_index)\n",
        "\n",
        "# The 'predicted_class'\n",
        "print('predictions', predictions)\n",
        "print(predicted_class)"
      ],
      "metadata": {
        "colab": {
          "base_uri": "https://localhost:8080/"
        },
        "id": "0qqpUnVDd14W",
        "outputId": "3c86a8f3-e562-4963-d853-58fdd2f61574"
      },
      "execution_count": 98,
      "outputs": [
        {
          "output_type": "stream",
          "name": "stdout",
          "text": [
            "1/1 [==============================] - 0s 57ms/step\n",
            "predictions [[1.2908266e-03 9.9149137e-04 2.2209149e-02 2.7093731e-04 9.7523767e-01]]\n",
            "['Unknown']\n"
          ]
        }
      ]
    }
  ]
}